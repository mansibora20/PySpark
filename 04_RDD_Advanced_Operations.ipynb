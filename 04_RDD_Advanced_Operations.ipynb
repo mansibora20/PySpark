{
  "nbformat": 4,
  "nbformat_minor": 0,
  "metadata": {
    "colab": {
      "provenance": [],
      "authorship_tag": "ABX9TyOlNh8422RUddzS0fZGQ9Qf",
      "include_colab_link": true
    },
    "kernelspec": {
      "name": "python3",
      "display_name": "Python 3"
    },
    "language_info": {
      "name": "python"
    }
  },
  "cells": [
    {
      "cell_type": "markdown",
      "metadata": {
        "id": "view-in-github",
        "colab_type": "text"
      },
      "source": [
        "<a href=\"https://colab.research.google.com/github/mansibora20/PySpark/blob/main/04_RDD_Advanced_Operations.ipynb\" target=\"_parent\"><img src=\"https://colab.research.google.com/assets/colab-badge.svg\" alt=\"Open In Colab\"/></a>"
      ]
    },
    {
      "cell_type": "markdown",
      "source": [
        "Imports"
      ],
      "metadata": {
        "id": "gYJm-_Dq-rFX"
      }
    },
    {
      "cell_type": "code",
      "execution_count": 5,
      "metadata": {
        "id": "RSEADM2X-ZTs"
      },
      "outputs": [],
      "source": [
        "import pyspark\n",
        "from pyspark.sql import SparkSession\n",
        "from pyspark.sql import functions as F\n",
        "import random\n",
        "import matplotlib.pyplot as plt"
      ]
    },
    {
      "cell_type": "markdown",
      "source": [
        "Initialize Spark Session"
      ],
      "metadata": {
        "id": "-OIZiDmS-oc2"
      }
    },
    {
      "cell_type": "code",
      "source": [
        "spark = SparkSession.builder.appName(\"RDDs_Advanced_Operations\").getOrCreate()\n",
        "sc = spark.sparkContext"
      ],
      "metadata": {
        "id": "qPf2SpBA-ho_"
      },
      "execution_count": 6,
      "outputs": []
    },
    {
      "cell_type": "markdown",
      "source": [
        "Generate dataset with random values"
      ],
      "metadata": {
        "id": "9_J6JFVP-toG"
      }
    },
    {
      "cell_type": "code",
      "source": [
        "# Generate random retail sales data\n",
        "def generate_sales_data(n=1000):\n",
        "    products = [\"Laptop\", \"Smartphone\", \"Headphones\", \"Keyboard\", \"Mouse\", \"Monitor\", \"Tablet\", \"Smartwatch\"]\n",
        "    stores = [\"New York\", \"Los Angeles\", \"Chicago\", \"Houston\", \"San Francisco\"]\n",
        "    start_date = datetime(2023, 1, 1)\n",
        "\n",
        "    data = []\n",
        "    for _ in range(n):\n",
        "        customer_id = random.randint(1000, 5000)\n",
        "        product = random.choice(products)\n",
        "        category = \"Electronics\" if product in [\"Laptop\", \"Smartphone\", \"Tablet\", \"Smartwatch\", \"Monitor\"] else \"Accessories\"\n",
        "        store = random.choice(stores)\n",
        "        amount = round(random.uniform(50, 2000), 2)\n",
        "        date = start_date + timedelta(days=random.randint(0, 365))\n",
        "        data.append((customer_id, product, category, store, amount, date.strftime('%Y-%m-%d')))\n",
        "    return data"
      ],
      "metadata": {
        "id": "_RH6Z2zK-kUc"
      },
      "execution_count": 11,
      "outputs": []
    },
    {
      "cell_type": "markdown",
      "source": [
        "Create RDD"
      ],
      "metadata": {
        "id": "qZKG3vkt_19g"
      }
    },
    {
      "cell_type": "code",
      "source": [
        "sales_rdd = sc.parallelize(generate_sales_data(5000))"
      ],
      "metadata": {
        "id": "Guf-ng_4-yjN"
      },
      "execution_count": 12,
      "outputs": []
    },
    {
      "cell_type": "markdown",
      "source": [
        "Print initial dataset"
      ],
      "metadata": {
        "id": "GSxb4LabCWjV"
      }
    },
    {
      "cell_type": "code",
      "source": [
        "print(\"Sample Sales Data:\")\n",
        "for row in sales_rdd.take(5):\n",
        "    print(row)"
      ],
      "metadata": {
        "colab": {
          "base_uri": "https://localhost:8080/"
        },
        "id": "oFl-qtCW-znh",
        "outputId": "6c2626b4-fe59-4eff-c3ac-ac4c5e7d1bff"
      },
      "execution_count": 13,
      "outputs": [
        {
          "output_type": "stream",
          "name": "stdout",
          "text": [
            "Sample Sales Data:\n",
            "(3437, 'Tablet', 'Electronics', 'New York', 221.88, '2023-11-28')\n",
            "(4793, 'Smartphone', 'Electronics', 'Houston', 1714.99, '2023-08-23')\n",
            "(1212, 'Keyboard', 'Accessories', 'Chicago', 385.7, '2023-04-26')\n",
            "(4644, 'Smartphone', 'Electronics', 'Houston', 478.26, '2023-07-29')\n",
            "(1576, 'Laptop', 'Electronics', 'Chicago', 1381.22, '2023-12-27')\n"
          ]
        }
      ]
    },
    {
      "cell_type": "markdown",
      "source": [
        "Total Sales Amount"
      ],
      "metadata": {
        "id": "I8gLDzmkCkCB"
      }
    },
    {
      "cell_type": "code",
      "source": [
        "total_sales = sales_rdd.map(lambda x: x[4]).sum()\n",
        "print(f\"Total Sales Revenue: ${total_sales:.2f}\")\n",
        "\n"
      ],
      "metadata": {
        "colab": {
          "base_uri": "https://localhost:8080/"
        },
        "id": "_382wtGG_7Yd",
        "outputId": "6c5c1f1a-d6da-405b-d666-7596d360cc02"
      },
      "execution_count": 14,
      "outputs": [
        {
          "output_type": "stream",
          "name": "stdout",
          "text": [
            "Total Sales Revenue: $5066708.63\n"
          ]
        }
      ]
    },
    {
      "cell_type": "markdown",
      "source": [
        "Count of Transactions"
      ],
      "metadata": {
        "id": "SJyEmseLCsT6"
      }
    },
    {
      "cell_type": "code",
      "source": [
        "\n",
        "num_transactions = sales_rdd.count()\n",
        "print(f\" Total Transactions: {num_transactions}\")"
      ],
      "metadata": {
        "colab": {
          "base_uri": "https://localhost:8080/"
        },
        "id": "0ruIEUCp_-l-",
        "outputId": "07d87777-32ac-44f4-d7a0-d7c56bc3a0b2"
      },
      "execution_count": 16,
      "outputs": [
        {
          "output_type": "stream",
          "name": "stdout",
          "text": [
            " Total Transactions: 5000\n"
          ]
        }
      ]
    },
    {
      "cell_type": "markdown",
      "source": [
        "Unique Products Sold"
      ],
      "metadata": {
        "id": "Gz1xmX7fC5zK"
      }
    },
    {
      "cell_type": "code",
      "source": [
        "unique_products = sales_rdd.map(lambda x: x[1]).distinct().collect()\n",
        "print(f\"Unique Products Sold: {unique_products}\")"
      ],
      "metadata": {
        "colab": {
          "base_uri": "https://localhost:8080/"
        },
        "id": "VkgkWEToCuii",
        "outputId": "282fbec7-1403-425c-928f-57939b221a3d"
      },
      "execution_count": 17,
      "outputs": [
        {
          "output_type": "stream",
          "name": "stdout",
          "text": [
            "Unique Products Sold: ['Laptop', 'Monitor', 'Headphones', 'Tablet', 'Smartphone', 'Keyboard', 'Smartwatch', 'Mouse']\n"
          ]
        }
      ]
    },
    {
      "cell_type": "markdown",
      "source": [
        "Total Sales by Store"
      ],
      "metadata": {
        "id": "-CDn9LDKDDAm"
      }
    },
    {
      "cell_type": "code",
      "source": [
        "store_sales = sales_rdd.map(lambda x: (x[3], x[4])).reduceByKey(lambda x, y: x + y)\n",
        "print(\"Sales by Store:\", store_sales.collect())"
      ],
      "metadata": {
        "colab": {
          "base_uri": "https://localhost:8080/"
        },
        "id": "hne5KKEnC817",
        "outputId": "3799ae3a-9312-4df7-f939-534c67887496"
      },
      "execution_count": 18,
      "outputs": [
        {
          "output_type": "stream",
          "name": "stdout",
          "text": [
            "Sales by Store: [('New York', 1092361.4699999997), ('Houston', 970400.1600000006), ('Los Angeles', 1014196.1599999993), ('Chicago', 1000474.2500000008), ('San Francisco', 989276.5899999994)]\n"
          ]
        }
      ]
    },
    {
      "cell_type": "markdown",
      "source": [
        " Most Popular Products"
      ],
      "metadata": {
        "id": "9IiOR6KfDma5"
      }
    },
    {
      "cell_type": "code",
      "source": [
        "popular_products = sales_rdd.map(lambda x: (x[1], 1)).reduceByKey(lambda x, y: x + y).sortBy(lambda x: x[1], ascending=False)\n",
        "print(\"Most Popular Products:\", popular_products.take(5))"
      ],
      "metadata": {
        "colab": {
          "base_uri": "https://localhost:8080/"
        },
        "id": "M_GXH3OaDGJt",
        "outputId": "38a1f413-aa4e-4831-8c38-ad0ceed7659e"
      },
      "execution_count": 20,
      "outputs": [
        {
          "output_type": "stream",
          "name": "stdout",
          "text": [
            "Most Popular Products: [('Keyboard', 659), ('Mouse', 642), ('Smartphone', 629), ('Smartwatch', 627), ('Headphones', 622)]\n"
          ]
        }
      ]
    },
    {
      "cell_type": "markdown",
      "source": [
        "Average Sale Amount"
      ],
      "metadata": {
        "id": "tg0WEoy3DvDq"
      }
    },
    {
      "cell_type": "code",
      "source": [
        "avg_sales = sales_rdd.map(lambda x: x[4]).mean()\n",
        "print(f\" Average Sale Amount: ${avg_sales:.2f}\")"
      ],
      "metadata": {
        "colab": {
          "base_uri": "https://localhost:8080/"
        },
        "id": "KgpcA--mDpWQ",
        "outputId": "484a4732-abe0-4bfa-9a3e-b927c6b270f3"
      },
      "execution_count": 22,
      "outputs": [
        {
          "output_type": "stream",
          "name": "stdout",
          "text": [
            " Average Sale Amount: $1013.34\n"
          ]
        }
      ]
    },
    {
      "cell_type": "markdown",
      "source": [
        "Sales Trend Over Time"
      ],
      "metadata": {
        "id": "1unEgT75D0Dx"
      }
    },
    {
      "cell_type": "code",
      "source": [
        "from collections import defaultdict\n",
        "import plotly.graph_objects as go\n",
        "from plotly.subplots import make_subplots\n",
        "\n",
        "# Aggregate sales by date\n",
        "sales_by_date = sales_rdd.map(lambda x: (x[5], x[4])).reduceByKey(lambda x, y: x + y).collect()\n",
        "\n",
        "# Convert to dictionary for plotting\n",
        "date_sales_dict = defaultdict(float)\n",
        "for date, amount in sales_by_date:\n",
        "    date_sales_dict[date] = amount\n",
        "\n",
        "# Sort by date\n",
        "sorted_sales = sorted(date_sales_dict.items())\n",
        "\n",
        "# Extract dates and sales amounts\n",
        "dates, sales = zip(*sorted_sales)\n",
        "\n",
        "# Create interactive Plotly plot\n",
        "fig = go.Figure()\n",
        "\n",
        "fig.add_trace(go.Scatter(\n",
        "    x=dates,\n",
        "    y=sales,\n",
        "    mode=\"lines+markers\",\n",
        "    marker=dict(size=6, color=\"blue\"),\n",
        "    line=dict(width=2),\n",
        "    name=\"Sales Revenue\",\n",
        "    hovertemplate=\"<b>Date:</b> %{x}<br><b>Sales:</b> $%{y:.2f}<extra></extra>\"\n",
        "))\n",
        "\n",
        "# Improve layout\n",
        "fig.update_layout(\n",
        "    title=\"📈 Sales Trend Over Time\",\n",
        "    xaxis=dict(title=\"Date\", tickangle=-45, tickformat=\"%Y-%m-%d\"),\n",
        "    yaxis=dict(title=\"Total Sales ($)\"),\n",
        "    hovermode=\"x unified\",\n",
        "    plot_bgcolor=\"white\",\n",
        "    xaxis_showgrid=True,\n",
        "    yaxis_showgrid=True\n",
        ")\n",
        "\n",
        "# Show interactive plot\n",
        "fig.show()\n"
      ],
      "metadata": {
        "colab": {
          "base_uri": "https://localhost:8080/",
          "height": 542
        },
        "id": "BMF7cCSVDxxk",
        "outputId": "0b34092d-1c83-4e11-fbbf-cc37ab6a7e8e"
      },
      "execution_count": 24,
      "outputs": [
        {
          "output_type": "display_data",
          "data": {
            "text/html": [
              "<html>\n",
              "<head><meta charset=\"utf-8\" /></head>\n",
              "<body>\n",
              "    <div>            <script src=\"https://cdnjs.cloudflare.com/ajax/libs/mathjax/2.7.5/MathJax.js?config=TeX-AMS-MML_SVG\"></script><script type=\"text/javascript\">if (window.MathJax && window.MathJax.Hub && window.MathJax.Hub.Config) {window.MathJax.Hub.Config({SVG: {font: \"STIX-Web\"}});}</script>                <script type=\"text/javascript\">window.PlotlyConfig = {MathJaxConfig: 'local'};</script>\n",
              "        <script charset=\"utf-8\" src=\"https://cdn.plot.ly/plotly-2.35.2.min.js\"></script>                <div id=\"27f8c23c-0db3-4eb2-b43f-f2862b5f76f1\" class=\"plotly-graph-div\" style=\"height:525px; width:100%;\"></div>            <script type=\"text/javascript\">                                    window.PLOTLYENV=window.PLOTLYENV || {};                                    if (document.getElementById(\"27f8c23c-0db3-4eb2-b43f-f2862b5f76f1\")) {                    Plotly.newPlot(                        \"27f8c23c-0db3-4eb2-b43f-f2862b5f76f1\",                        [{\"hovertemplate\":\"\\u003cb\\u003eDate:\\u003c\\u002fb\\u003e %{x}\\u003cbr\\u003e\\u003cb\\u003eSales:\\u003c\\u002fb\\u003e $%{y:.2f}\\u003cextra\\u003e\\u003c\\u002fextra\\u003e\",\"line\":{\"width\":2},\"marker\":{\"color\":\"blue\",\"size\":6},\"mode\":\"lines+markers\",\"name\":\"Sales Revenue\",\"x\":[\"2023-01-01\",\"2023-01-02\",\"2023-01-03\",\"2023-01-04\",\"2023-01-05\",\"2023-01-06\",\"2023-01-07\",\"2023-01-08\",\"2023-01-09\",\"2023-01-10\",\"2023-01-11\",\"2023-01-12\",\"2023-01-13\",\"2023-01-14\",\"2023-01-15\",\"2023-01-16\",\"2023-01-17\",\"2023-01-18\",\"2023-01-19\",\"2023-01-20\",\"2023-01-21\",\"2023-01-22\",\"2023-01-23\",\"2023-01-24\",\"2023-01-25\",\"2023-01-26\",\"2023-01-27\",\"2023-01-28\",\"2023-01-29\",\"2023-01-30\",\"2023-01-31\",\"2023-02-01\",\"2023-02-02\",\"2023-02-03\",\"2023-02-04\",\"2023-02-05\",\"2023-02-06\",\"2023-02-07\",\"2023-02-08\",\"2023-02-09\",\"2023-02-10\",\"2023-02-11\",\"2023-02-12\",\"2023-02-13\",\"2023-02-14\",\"2023-02-15\",\"2023-02-16\",\"2023-02-17\",\"2023-02-18\",\"2023-02-19\",\"2023-02-20\",\"2023-02-21\",\"2023-02-22\",\"2023-02-23\",\"2023-02-24\",\"2023-02-25\",\"2023-02-26\",\"2023-02-27\",\"2023-02-28\",\"2023-03-01\",\"2023-03-02\",\"2023-03-03\",\"2023-03-04\",\"2023-03-05\",\"2023-03-06\",\"2023-03-07\",\"2023-03-08\",\"2023-03-09\",\"2023-03-10\",\"2023-03-11\",\"2023-03-12\",\"2023-03-13\",\"2023-03-14\",\"2023-03-15\",\"2023-03-16\",\"2023-03-17\",\"2023-03-18\",\"2023-03-19\",\"2023-03-20\",\"2023-03-21\",\"2023-03-22\",\"2023-03-23\",\"2023-03-24\",\"2023-03-25\",\"2023-03-26\",\"2023-03-27\",\"2023-03-28\",\"2023-03-29\",\"2023-03-30\",\"2023-03-31\",\"2023-04-01\",\"2023-04-02\",\"2023-04-03\",\"2023-04-04\",\"2023-04-05\",\"2023-04-06\",\"2023-04-07\",\"2023-04-08\",\"2023-04-09\",\"2023-04-10\",\"2023-04-11\",\"2023-04-12\",\"2023-04-13\",\"2023-04-14\",\"2023-04-15\",\"2023-04-16\",\"2023-04-17\",\"2023-04-18\",\"2023-04-19\",\"2023-04-20\",\"2023-04-21\",\"2023-04-22\",\"2023-04-23\",\"2023-04-24\",\"2023-04-25\",\"2023-04-26\",\"2023-04-27\",\"2023-04-28\",\"2023-04-29\",\"2023-04-30\",\"2023-05-01\",\"2023-05-02\",\"2023-05-03\",\"2023-05-04\",\"2023-05-05\",\"2023-05-06\",\"2023-05-07\",\"2023-05-08\",\"2023-05-09\",\"2023-05-10\",\"2023-05-11\",\"2023-05-12\",\"2023-05-13\",\"2023-05-14\",\"2023-05-15\",\"2023-05-16\",\"2023-05-17\",\"2023-05-18\",\"2023-05-19\",\"2023-05-20\",\"2023-05-21\",\"2023-05-22\",\"2023-05-23\",\"2023-05-24\",\"2023-05-25\",\"2023-05-26\",\"2023-05-27\",\"2023-05-28\",\"2023-05-29\",\"2023-05-30\",\"2023-05-31\",\"2023-06-01\",\"2023-06-02\",\"2023-06-03\",\"2023-06-04\",\"2023-06-05\",\"2023-06-06\",\"2023-06-07\",\"2023-06-08\",\"2023-06-09\",\"2023-06-10\",\"2023-06-11\",\"2023-06-12\",\"2023-06-13\",\"2023-06-14\",\"2023-06-15\",\"2023-06-16\",\"2023-06-17\",\"2023-06-18\",\"2023-06-19\",\"2023-06-20\",\"2023-06-21\",\"2023-06-22\",\"2023-06-23\",\"2023-06-24\",\"2023-06-25\",\"2023-06-26\",\"2023-06-27\",\"2023-06-28\",\"2023-06-29\",\"2023-06-30\",\"2023-07-01\",\"2023-07-02\",\"2023-07-03\",\"2023-07-04\",\"2023-07-05\",\"2023-07-06\",\"2023-07-07\",\"2023-07-08\",\"2023-07-09\",\"2023-07-10\",\"2023-07-11\",\"2023-07-12\",\"2023-07-13\",\"2023-07-14\",\"2023-07-15\",\"2023-07-16\",\"2023-07-17\",\"2023-07-18\",\"2023-07-19\",\"2023-07-20\",\"2023-07-21\",\"2023-07-22\",\"2023-07-23\",\"2023-07-24\",\"2023-07-25\",\"2023-07-26\",\"2023-07-27\",\"2023-07-28\",\"2023-07-29\",\"2023-07-30\",\"2023-07-31\",\"2023-08-01\",\"2023-08-02\",\"2023-08-03\",\"2023-08-04\",\"2023-08-05\",\"2023-08-06\",\"2023-08-07\",\"2023-08-08\",\"2023-08-09\",\"2023-08-10\",\"2023-08-11\",\"2023-08-12\",\"2023-08-13\",\"2023-08-14\",\"2023-08-15\",\"2023-08-16\",\"2023-08-17\",\"2023-08-18\",\"2023-08-19\",\"2023-08-20\",\"2023-08-21\",\"2023-08-22\",\"2023-08-23\",\"2023-08-24\",\"2023-08-25\",\"2023-08-26\",\"2023-08-27\",\"2023-08-28\",\"2023-08-29\",\"2023-08-30\",\"2023-08-31\",\"2023-09-01\",\"2023-09-02\",\"2023-09-03\",\"2023-09-04\",\"2023-09-05\",\"2023-09-06\",\"2023-09-07\",\"2023-09-08\",\"2023-09-09\",\"2023-09-10\",\"2023-09-11\",\"2023-09-12\",\"2023-09-13\",\"2023-09-14\",\"2023-09-15\",\"2023-09-16\",\"2023-09-17\",\"2023-09-18\",\"2023-09-19\",\"2023-09-20\",\"2023-09-21\",\"2023-09-22\",\"2023-09-23\",\"2023-09-24\",\"2023-09-25\",\"2023-09-26\",\"2023-09-27\",\"2023-09-28\",\"2023-09-29\",\"2023-09-30\",\"2023-10-01\",\"2023-10-02\",\"2023-10-03\",\"2023-10-04\",\"2023-10-05\",\"2023-10-06\",\"2023-10-07\",\"2023-10-08\",\"2023-10-09\",\"2023-10-10\",\"2023-10-11\",\"2023-10-12\",\"2023-10-13\",\"2023-10-14\",\"2023-10-15\",\"2023-10-16\",\"2023-10-17\",\"2023-10-18\",\"2023-10-19\",\"2023-10-20\",\"2023-10-21\",\"2023-10-22\",\"2023-10-23\",\"2023-10-24\",\"2023-10-25\",\"2023-10-26\",\"2023-10-27\",\"2023-10-28\",\"2023-10-29\",\"2023-10-30\",\"2023-10-31\",\"2023-11-01\",\"2023-11-02\",\"2023-11-03\",\"2023-11-04\",\"2023-11-05\",\"2023-11-06\",\"2023-11-07\",\"2023-11-08\",\"2023-11-09\",\"2023-11-10\",\"2023-11-11\",\"2023-11-12\",\"2023-11-13\",\"2023-11-14\",\"2023-11-15\",\"2023-11-16\",\"2023-11-17\",\"2023-11-18\",\"2023-11-19\",\"2023-11-20\",\"2023-11-21\",\"2023-11-22\",\"2023-11-23\",\"2023-11-24\",\"2023-11-25\",\"2023-11-26\",\"2023-11-27\",\"2023-11-28\",\"2023-11-29\",\"2023-11-30\",\"2023-12-01\",\"2023-12-02\",\"2023-12-03\",\"2023-12-04\",\"2023-12-05\",\"2023-12-06\",\"2023-12-07\",\"2023-12-08\",\"2023-12-09\",\"2023-12-10\",\"2023-12-11\",\"2023-12-12\",\"2023-12-13\",\"2023-12-14\",\"2023-12-15\",\"2023-12-16\",\"2023-12-17\",\"2023-12-18\",\"2023-12-19\",\"2023-12-20\",\"2023-12-21\",\"2023-12-22\",\"2023-12-23\",\"2023-12-24\",\"2023-12-25\",\"2023-12-26\",\"2023-12-27\",\"2023-12-28\",\"2023-12-29\",\"2023-12-30\",\"2023-12-31\",\"2024-01-01\"],\"y\":[16702.28,16003.249999999998,12848.420000000002,16014.530000000002,18835.86,9592.79,17302.25,6944.950000000001,10416.25,9750.92,10995.01,21459.510000000002,16373.92,12879.0,11289.23,9542.880000000001,13359.23,8311.28,9718.23,11648.2,18157.339999999997,11154.03,22186.03,8526.96,16942.75,12656.86,11241.34,15614.63,16105.029999999999,16990.200000000004,15129.240000000002,12795.68,7412.67,13643.64,19903.67,18530.369999999995,17005.79,15765.580000000002,14740.09,10495.939999999999,7721.55,16935.56,9985.64,11195.089999999998,7830.6900000000005,12786.09,5434.86,23560.670000000002,12543.82,17176.59,14901.380000000001,15280.04,11115.79,14248.400000000001,14889.279999999999,20459.07,15492.05,17306.120000000003,18660.2,16283.77,16164.37,9442.849999999999,13164.64,15882.949999999999,13017.05,24722.549999999996,18929.93,13345.89,15518.990000000002,10909.83,11567.34,9599.18,6644.4,10037.2,17763.82,11276.04,8751.589999999998,13952.19,14293.919999999998,14303.31,21024.059999999998,9865.6,18263.52,19242.710000000003,16828.190000000002,15964.42,16617.07,21019.0,13898.02,14084.32,13174.71,20887.440000000002,22817.41,16740.870000000003,12326.64,13143.01,10199.640000000001,5025.2,23571.13,11184.68,11758.18,14971.44,12584.119999999999,18340.519999999997,13559.490000000002,10997.11,11409.310000000001,18512.27,15368.85,11957.45,12957.98,23863.75,9694.96,15430.45,10813.859999999999,8707.54,9273.52,14096.109999999999,12847.630000000001,23322.489999999998,16388.69,9630.94,13390.18,11842.43,22105.729999999996,9484.0,9840.13,6725.14,19415.99,9169.480000000001,21411.08,17835.52,7523.12,12033.16,16489.059999999998,6102.58,13763.3,16065.699999999999,10395.27,23523.71,9221.28,12443.68,5053.240000000001,11336.62,14152.42,6021.869999999999,12513.37,18634.81,20859.36,14397.670000000002,21022.18,15522.71,11315.6,12616.960000000001,16473.5,14200.86,21413.43,13363.27,16035.44,12557.779999999999,21190.36,23082.219999999998,14738.93,19533.09,13202.369999999999,14448.259999999998,11174.310000000001,10679.029999999999,20811.72,16364.07,17463.85,12134.65,6819.4,14154.36,12374.9,10419.130000000001,21873.89,12572.38,10207.62,11466.92,11073.69,20034.85,19182.79,17629.39,11173.97,8027.629999999999,4694.62,20615.239999999998,9586.55,12724.619999999999,9272.130000000001,13921.499999999998,7830.78,4856.04,12182.15,11150.54,13532.49,11397.04,12989.030000000002,10817.399999999998,8502.33,12689.4,7341.25,16837.07,7636.640000000001,11157.92,9566.400000000001,11365.51,8220.69,14848.14,13715.98,10799.01,16314.22,17295.769999999997,16970.5,8556.84,12700.130000000001,15016.569999999998,10093.54,11661.18,14421.43,25887.53,14350.369999999999,10477.76,25080.449999999997,2380.05,9605.320000000002,5855.22,18035.68,7562.29,15354.36,9751.21,9985.98,14996.18,14608.59,9874.67,11153.199999999997,16356.980000000001,16231.57,9347.76,20836.65,16796.97,14793.53,19848.390000000003,20247.34,17599.700000000004,12081.95,11345.419999999998,20937.440000000002,11191.71,11863.699999999999,19239.55,23013.510000000002,8943.37,11614.93,10906.68,8488.800000000001,6382.570000000001,9610.829999999998,24676.63,17966.97,11825.74,16478.1,10206.650000000001,18242.14,9882.380000000001,15152.150000000001,7994.99,14529.34,18356.010000000002,11919.33,11036.310000000001,12463.469999999998,13493.599999999997,18571.449999999997,23211.51,22020.149999999998,13992.5,13460.49,12486.52,9306.36,17704.760000000002,11772.71,10877.38,5824.11,12018.86,12435.17,15564.18,14595.289999999999,17147.91,15882.710000000003,27629.729999999996,19117.52,8380.48,9568.91,5329.799999999999,25722.699999999997,17407.38,13548.439999999999,18533.99,14265.95,8084.869999999999,13485.89,18962.39,7971.44,23744.35,12300.59,11417.71,17392.239999999998,11630.8,8884.220000000001,8417.79,15314.039999999999,18342.93,8921.48,14544.07,11666.07,23020.090000000004,4792.4,13672.960000000001,10656.349999999999,19411.43,4921.87,10704.439999999999,19022.27,10100.02,12229.750000000002,9325.25,17898.7,23157.77,8686.92,11032.91,19153.48,16476.870000000003,18691.71,9125.8,14559.07,15788.330000000002,10701.41,10040.08,14713.490000000002,14942.989999999998,14992.46,9950.029999999999,14556.130000000001,13080.21,16863.85,13224.539999999999,10749.18,16752.059999999998,5882.74,10517.34,10612.7,13852.15,19353.29,15113.27,11290.099999999999,11075.759999999998,10570.839999999998,10414.17,21323.66,11275.029999999999,13801.480000000001,15812.66,16645.28,12022.59],\"type\":\"scatter\"}],                        {\"template\":{\"data\":{\"histogram2dcontour\":[{\"type\":\"histogram2dcontour\",\"colorbar\":{\"outlinewidth\":0,\"ticks\":\"\"},\"colorscale\":[[0.0,\"#0d0887\"],[0.1111111111111111,\"#46039f\"],[0.2222222222222222,\"#7201a8\"],[0.3333333333333333,\"#9c179e\"],[0.4444444444444444,\"#bd3786\"],[0.5555555555555556,\"#d8576b\"],[0.6666666666666666,\"#ed7953\"],[0.7777777777777778,\"#fb9f3a\"],[0.8888888888888888,\"#fdca26\"],[1.0,\"#f0f921\"]]}],\"choropleth\":[{\"type\":\"choropleth\",\"colorbar\":{\"outlinewidth\":0,\"ticks\":\"\"}}],\"histogram2d\":[{\"type\":\"histogram2d\",\"colorbar\":{\"outlinewidth\":0,\"ticks\":\"\"},\"colorscale\":[[0.0,\"#0d0887\"],[0.1111111111111111,\"#46039f\"],[0.2222222222222222,\"#7201a8\"],[0.3333333333333333,\"#9c179e\"],[0.4444444444444444,\"#bd3786\"],[0.5555555555555556,\"#d8576b\"],[0.6666666666666666,\"#ed7953\"],[0.7777777777777778,\"#fb9f3a\"],[0.8888888888888888,\"#fdca26\"],[1.0,\"#f0f921\"]]}],\"heatmap\":[{\"type\":\"heatmap\",\"colorbar\":{\"outlinewidth\":0,\"ticks\":\"\"},\"colorscale\":[[0.0,\"#0d0887\"],[0.1111111111111111,\"#46039f\"],[0.2222222222222222,\"#7201a8\"],[0.3333333333333333,\"#9c179e\"],[0.4444444444444444,\"#bd3786\"],[0.5555555555555556,\"#d8576b\"],[0.6666666666666666,\"#ed7953\"],[0.7777777777777778,\"#fb9f3a\"],[0.8888888888888888,\"#fdca26\"],[1.0,\"#f0f921\"]]}],\"heatmapgl\":[{\"type\":\"heatmapgl\",\"colorbar\":{\"outlinewidth\":0,\"ticks\":\"\"},\"colorscale\":[[0.0,\"#0d0887\"],[0.1111111111111111,\"#46039f\"],[0.2222222222222222,\"#7201a8\"],[0.3333333333333333,\"#9c179e\"],[0.4444444444444444,\"#bd3786\"],[0.5555555555555556,\"#d8576b\"],[0.6666666666666666,\"#ed7953\"],[0.7777777777777778,\"#fb9f3a\"],[0.8888888888888888,\"#fdca26\"],[1.0,\"#f0f921\"]]}],\"contourcarpet\":[{\"type\":\"contourcarpet\",\"colorbar\":{\"outlinewidth\":0,\"ticks\":\"\"}}],\"contour\":[{\"type\":\"contour\",\"colorbar\":{\"outlinewidth\":0,\"ticks\":\"\"},\"colorscale\":[[0.0,\"#0d0887\"],[0.1111111111111111,\"#46039f\"],[0.2222222222222222,\"#7201a8\"],[0.3333333333333333,\"#9c179e\"],[0.4444444444444444,\"#bd3786\"],[0.5555555555555556,\"#d8576b\"],[0.6666666666666666,\"#ed7953\"],[0.7777777777777778,\"#fb9f3a\"],[0.8888888888888888,\"#fdca26\"],[1.0,\"#f0f921\"]]}],\"surface\":[{\"type\":\"surface\",\"colorbar\":{\"outlinewidth\":0,\"ticks\":\"\"},\"colorscale\":[[0.0,\"#0d0887\"],[0.1111111111111111,\"#46039f\"],[0.2222222222222222,\"#7201a8\"],[0.3333333333333333,\"#9c179e\"],[0.4444444444444444,\"#bd3786\"],[0.5555555555555556,\"#d8576b\"],[0.6666666666666666,\"#ed7953\"],[0.7777777777777778,\"#fb9f3a\"],[0.8888888888888888,\"#fdca26\"],[1.0,\"#f0f921\"]]}],\"mesh3d\":[{\"type\":\"mesh3d\",\"colorbar\":{\"outlinewidth\":0,\"ticks\":\"\"}}],\"scatter\":[{\"fillpattern\":{\"fillmode\":\"overlay\",\"size\":10,\"solidity\":0.2},\"type\":\"scatter\"}],\"parcoords\":[{\"type\":\"parcoords\",\"line\":{\"colorbar\":{\"outlinewidth\":0,\"ticks\":\"\"}}}],\"scatterpolargl\":[{\"type\":\"scatterpolargl\",\"marker\":{\"colorbar\":{\"outlinewidth\":0,\"ticks\":\"\"}}}],\"bar\":[{\"error_x\":{\"color\":\"#2a3f5f\"},\"error_y\":{\"color\":\"#2a3f5f\"},\"marker\":{\"line\":{\"color\":\"#E5ECF6\",\"width\":0.5},\"pattern\":{\"fillmode\":\"overlay\",\"size\":10,\"solidity\":0.2}},\"type\":\"bar\"}],\"scattergeo\":[{\"type\":\"scattergeo\",\"marker\":{\"colorbar\":{\"outlinewidth\":0,\"ticks\":\"\"}}}],\"scatterpolar\":[{\"type\":\"scatterpolar\",\"marker\":{\"colorbar\":{\"outlinewidth\":0,\"ticks\":\"\"}}}],\"histogram\":[{\"marker\":{\"pattern\":{\"fillmode\":\"overlay\",\"size\":10,\"solidity\":0.2}},\"type\":\"histogram\"}],\"scattergl\":[{\"type\":\"scattergl\",\"marker\":{\"colorbar\":{\"outlinewidth\":0,\"ticks\":\"\"}}}],\"scatter3d\":[{\"type\":\"scatter3d\",\"line\":{\"colorbar\":{\"outlinewidth\":0,\"ticks\":\"\"}},\"marker\":{\"colorbar\":{\"outlinewidth\":0,\"ticks\":\"\"}}}],\"scattermapbox\":[{\"type\":\"scattermapbox\",\"marker\":{\"colorbar\":{\"outlinewidth\":0,\"ticks\":\"\"}}}],\"scatterternary\":[{\"type\":\"scatterternary\",\"marker\":{\"colorbar\":{\"outlinewidth\":0,\"ticks\":\"\"}}}],\"scattercarpet\":[{\"type\":\"scattercarpet\",\"marker\":{\"colorbar\":{\"outlinewidth\":0,\"ticks\":\"\"}}}],\"carpet\":[{\"aaxis\":{\"endlinecolor\":\"#2a3f5f\",\"gridcolor\":\"white\",\"linecolor\":\"white\",\"minorgridcolor\":\"white\",\"startlinecolor\":\"#2a3f5f\"},\"baxis\":{\"endlinecolor\":\"#2a3f5f\",\"gridcolor\":\"white\",\"linecolor\":\"white\",\"minorgridcolor\":\"white\",\"startlinecolor\":\"#2a3f5f\"},\"type\":\"carpet\"}],\"table\":[{\"cells\":{\"fill\":{\"color\":\"#EBF0F8\"},\"line\":{\"color\":\"white\"}},\"header\":{\"fill\":{\"color\":\"#C8D4E3\"},\"line\":{\"color\":\"white\"}},\"type\":\"table\"}],\"barpolar\":[{\"marker\":{\"line\":{\"color\":\"#E5ECF6\",\"width\":0.5},\"pattern\":{\"fillmode\":\"overlay\",\"size\":10,\"solidity\":0.2}},\"type\":\"barpolar\"}],\"pie\":[{\"automargin\":true,\"type\":\"pie\"}]},\"layout\":{\"autotypenumbers\":\"strict\",\"colorway\":[\"#636efa\",\"#EF553B\",\"#00cc96\",\"#ab63fa\",\"#FFA15A\",\"#19d3f3\",\"#FF6692\",\"#B6E880\",\"#FF97FF\",\"#FECB52\"],\"font\":{\"color\":\"#2a3f5f\"},\"hovermode\":\"closest\",\"hoverlabel\":{\"align\":\"left\"},\"paper_bgcolor\":\"white\",\"plot_bgcolor\":\"#E5ECF6\",\"polar\":{\"bgcolor\":\"#E5ECF6\",\"angularaxis\":{\"gridcolor\":\"white\",\"linecolor\":\"white\",\"ticks\":\"\"},\"radialaxis\":{\"gridcolor\":\"white\",\"linecolor\":\"white\",\"ticks\":\"\"}},\"ternary\":{\"bgcolor\":\"#E5ECF6\",\"aaxis\":{\"gridcolor\":\"white\",\"linecolor\":\"white\",\"ticks\":\"\"},\"baxis\":{\"gridcolor\":\"white\",\"linecolor\":\"white\",\"ticks\":\"\"},\"caxis\":{\"gridcolor\":\"white\",\"linecolor\":\"white\",\"ticks\":\"\"}},\"coloraxis\":{\"colorbar\":{\"outlinewidth\":0,\"ticks\":\"\"}},\"colorscale\":{\"sequential\":[[0.0,\"#0d0887\"],[0.1111111111111111,\"#46039f\"],[0.2222222222222222,\"#7201a8\"],[0.3333333333333333,\"#9c179e\"],[0.4444444444444444,\"#bd3786\"],[0.5555555555555556,\"#d8576b\"],[0.6666666666666666,\"#ed7953\"],[0.7777777777777778,\"#fb9f3a\"],[0.8888888888888888,\"#fdca26\"],[1.0,\"#f0f921\"]],\"sequentialminus\":[[0.0,\"#0d0887\"],[0.1111111111111111,\"#46039f\"],[0.2222222222222222,\"#7201a8\"],[0.3333333333333333,\"#9c179e\"],[0.4444444444444444,\"#bd3786\"],[0.5555555555555556,\"#d8576b\"],[0.6666666666666666,\"#ed7953\"],[0.7777777777777778,\"#fb9f3a\"],[0.8888888888888888,\"#fdca26\"],[1.0,\"#f0f921\"]],\"diverging\":[[0,\"#8e0152\"],[0.1,\"#c51b7d\"],[0.2,\"#de77ae\"],[0.3,\"#f1b6da\"],[0.4,\"#fde0ef\"],[0.5,\"#f7f7f7\"],[0.6,\"#e6f5d0\"],[0.7,\"#b8e186\"],[0.8,\"#7fbc41\"],[0.9,\"#4d9221\"],[1,\"#276419\"]]},\"xaxis\":{\"gridcolor\":\"white\",\"linecolor\":\"white\",\"ticks\":\"\",\"title\":{\"standoff\":15},\"zerolinecolor\":\"white\",\"automargin\":true,\"zerolinewidth\":2},\"yaxis\":{\"gridcolor\":\"white\",\"linecolor\":\"white\",\"ticks\":\"\",\"title\":{\"standoff\":15},\"zerolinecolor\":\"white\",\"automargin\":true,\"zerolinewidth\":2},\"scene\":{\"xaxis\":{\"backgroundcolor\":\"#E5ECF6\",\"gridcolor\":\"white\",\"linecolor\":\"white\",\"showbackground\":true,\"ticks\":\"\",\"zerolinecolor\":\"white\",\"gridwidth\":2},\"yaxis\":{\"backgroundcolor\":\"#E5ECF6\",\"gridcolor\":\"white\",\"linecolor\":\"white\",\"showbackground\":true,\"ticks\":\"\",\"zerolinecolor\":\"white\",\"gridwidth\":2},\"zaxis\":{\"backgroundcolor\":\"#E5ECF6\",\"gridcolor\":\"white\",\"linecolor\":\"white\",\"showbackground\":true,\"ticks\":\"\",\"zerolinecolor\":\"white\",\"gridwidth\":2}},\"shapedefaults\":{\"line\":{\"color\":\"#2a3f5f\"}},\"annotationdefaults\":{\"arrowcolor\":\"#2a3f5f\",\"arrowhead\":0,\"arrowwidth\":1},\"geo\":{\"bgcolor\":\"white\",\"landcolor\":\"#E5ECF6\",\"subunitcolor\":\"white\",\"showland\":true,\"showlakes\":true,\"lakecolor\":\"white\"},\"title\":{\"x\":0.05},\"mapbox\":{\"style\":\"light\"}}},\"xaxis\":{\"title\":{\"text\":\"Date\"},\"tickangle\":-45,\"tickformat\":\"%Y-%m-%d\",\"showgrid\":true},\"yaxis\":{\"title\":{\"text\":\"Total Sales ($)\"},\"showgrid\":true},\"title\":{\"text\":\"📈 Sales Trend Over Time\"},\"hovermode\":\"x unified\",\"plot_bgcolor\":\"white\"},                        {\"responsive\": true}                    ).then(function(){\n",
              "                            \n",
              "var gd = document.getElementById('27f8c23c-0db3-4eb2-b43f-f2862b5f76f1');\n",
              "var x = new MutationObserver(function (mutations, observer) {{\n",
              "        var display = window.getComputedStyle(gd).display;\n",
              "        if (!display || display === 'none') {{\n",
              "            console.log([gd, 'removed!']);\n",
              "            Plotly.purge(gd);\n",
              "            observer.disconnect();\n",
              "        }}\n",
              "}});\n",
              "\n",
              "// Listen for the removal of the full notebook cells\n",
              "var notebookContainer = gd.closest('#notebook-container');\n",
              "if (notebookContainer) {{\n",
              "    x.observe(notebookContainer, {childList: true});\n",
              "}}\n",
              "\n",
              "// Listen for the clearing of the current output cell\n",
              "var outputEl = gd.closest('.output');\n",
              "if (outputEl) {{\n",
              "    x.observe(outputEl, {childList: true});\n",
              "}}\n",
              "\n",
              "                        })                };                            </script>        </div>\n",
              "</body>\n",
              "</html>"
            ]
          },
          "metadata": {}
        }
      ]
    },
    {
      "cell_type": "markdown",
      "source": [
        "Top Spending Customers\n",
        "\n"
      ],
      "metadata": {
        "id": "NqDT517UEiKN"
      }
    },
    {
      "cell_type": "code",
      "source": [
        "top_customers = sales_rdd.map(lambda x: (x[0], x[4])).reduceByKey(lambda x, y: x + y).sortBy(lambda x: x[1], ascending=False)\n",
        "print(\"Top Spending Customers:\", top_customers.take(5))\n"
      ],
      "metadata": {
        "colab": {
          "base_uri": "https://localhost:8080/"
        },
        "id": "JUdoAU-LD2xI",
        "outputId": "196e6aab-890b-4ce3-bff1-a65316d1c118"
      },
      "execution_count": 25,
      "outputs": [
        {
          "output_type": "stream",
          "name": "stdout",
          "text": [
            "Top Spending Customers: [(2567, 9908.0), (1554, 9626.689999999999), (1181, 8250.03), (3167, 7640.5199999999995), (3161, 7154.87)]\n"
          ]
        }
      ]
    },
    {
      "cell_type": "markdown",
      "source": [
        "Category-wise Sales Breakdown"
      ],
      "metadata": {
        "id": "Ah-v5pV2EpiG"
      }
    },
    {
      "cell_type": "code",
      "source": [
        "category_sales = sales_rdd.map(lambda x: (x[2], x[4])).reduceByKey(lambda x, y: x + y).collect()\n",
        "categories, amounts = zip(*category_sales)\n",
        "\n",
        "# Pie Chart for Category Sales\n",
        "plt.figure(figsize=(7, 7))\n",
        "plt.pie(amounts, labels=categories, autopct=\"%1.1f%%\", colors=[\"blue\", \"orange\"])\n",
        "plt.title(\"🛒 Sales Breakdown by Category\")\n",
        "plt.show()\n"
      ],
      "metadata": {
        "colab": {
          "base_uri": "https://localhost:8080/",
          "height": 667
        },
        "id": "4QHAnK4UEl-D",
        "outputId": "5dc043b4-1559-4cd5-9ec1-519441e9150e"
      },
      "execution_count": 26,
      "outputs": [
        {
          "output_type": "stream",
          "name": "stderr",
          "text": [
            "/usr/local/lib/python3.11/dist-packages/IPython/core/pylabtools.py:151: UserWarning:\n",
            "\n",
            "Glyph 128722 (\\N{SHOPPING TROLLEY}) missing from font(s) DejaVu Sans.\n",
            "\n"
          ]
        },
        {
          "output_type": "display_data",
          "data": {
            "text/plain": [
              "<Figure size 700x700 with 1 Axes>"
            ],
            "image/png": "[encoded data removed]"
          },
          "metadata": {}
        }
      ]
    },
    {
      "cell_type": "markdown",
      "source": [
        "Filtering Transactions Above a Threshold"
      ],
      "metadata": {
        "id": "yYYS9FI9ExJL"
      }
    },
    {
      "cell_type": "code",
      "source": [
        "high_value_sales = sales_rdd.filter(lambda x: x[4] > 1000)\n",
        "print(\"High-Value Transactions (Above $1000):\", high_value_sales.take(5))\n"
      ],
      "metadata": {
        "colab": {
          "base_uri": "https://localhost:8080/"
        },
        "id": "rwCt05ylErdO",
        "outputId": "c4b90602-9fe8-4c15-df85-a951f00b6031"
      },
      "execution_count": 27,
      "outputs": [
        {
          "output_type": "stream",
          "name": "stdout",
          "text": [
            "High-Value Transactions (Above $1000): [(4793, 'Smartphone', 'Electronics', 'Houston', 1714.99, '2023-08-23'), (1576, 'Laptop', 'Electronics', 'Chicago', 1381.22, '2023-12-27'), (1708, 'Keyboard', 'Accessories', 'New York', 1451.84, '2023-11-21'), (1786, 'Tablet', 'Electronics', 'Los Angeles', 1153.85, '2023-10-30'), (1104, 'Keyboard', 'Accessories', 'Houston', 1406.49, '2023-10-22')]\n"
          ]
        }
      ]
    },
    {
      "cell_type": "markdown",
      "source": [
        " Join Operations (Customer-Based Analysis)"
      ],
      "metadata": {
        "id": "_-_Z3ylUE4X-"
      }
    },
    {
      "cell_type": "code",
      "source": [
        "# Create RDD with customer demographic data\n",
        "customers_rdd = sc.parallelize([(1001, \"Alice\", \"NY\"), (1002, \"Bob\", \"LA\"), (1003, \"Charlie\", \"SF\")])\n",
        "\n",
        "# Convert sales RDD to (CustomerID, (Product, Amount))\n",
        "sales_customers_rdd = sales_rdd.map(lambda x: (x[0], (x[1], x[4])))\n",
        "\n",
        "# Join with customer data\n",
        "joined_rdd = sales_customers_rdd.join(customers_rdd)\n",
        "print(\" Customer Purchases with Demographics:\", joined_rdd.take(5))\n"
      ],
      "metadata": {
        "colab": {
          "base_uri": "https://localhost:8080/"
        },
        "id": "vNomyPsOEzhG",
        "outputId": "0b570999-1508-40ff-d1ed-8d9687a4b910"
      },
      "execution_count": 30,
      "outputs": [
        {
          "output_type": "stream",
          "name": "stdout",
          "text": [
            " Customer Purchases with Demographics: [(1003, (('Laptop', 1002.67), 'Charlie'))]\n"
          ]
        }
      ]
    },
    {
      "cell_type": "markdown",
      "source": [
        "Finding Maximum Sale per Store"
      ],
      "metadata": {
        "id": "A6Qs5ztsE_42"
      }
    },
    {
      "cell_type": "code",
      "source": [
        "max_sales_per_store = sales_rdd.map(lambda x: (x[3], x[4])).reduceByKey(lambda x, y: max(x, y))\n",
        "print(\"Highest Sale per Store:\", max_sales_per_store.collect())\n"
      ],
      "metadata": {
        "colab": {
          "base_uri": "https://localhost:8080/"
        },
        "id": "vTGpqcaNE6n_",
        "outputId": "dad21be8-b5b6-49b7-becc-89fea310e665"
      },
      "execution_count": 31,
      "outputs": [
        {
          "output_type": "stream",
          "name": "stdout",
          "text": [
            "Highest Sale per Store: [('New York', 1994.15), ('Houston', 1999.88), ('Los Angeles', 1999.91), ('Chicago', 1992.9), ('San Francisco', 1998.94)]\n"
          ]
        }
      ]
    },
    {
      "cell_type": "markdown",
      "source": [
        " Performance Optimization\n",
        " Cache RDD for faster computations"
      ],
      "metadata": {
        "id": "qh7YCaEYFE9-"
      }
    },
    {
      "cell_type": "code",
      "source": [
        "\n",
        "sales_rdd.cache()\n",
        "print(\"RDD Cached for Performance Optimization\")"
      ],
      "metadata": {
        "colab": {
          "base_uri": "https://localhost:8080/"
        },
        "id": "-r81r_ADFCrk",
        "outputId": "a57f6579-febb-44c4-f4d1-4fa504e06a8a"
      },
      "execution_count": 33,
      "outputs": [
        {
          "output_type": "stream",
          "name": "stdout",
          "text": [
            "RDD Cached for Performance Optimization\n"
          ]
        }
      ]
    },
    {
      "cell_type": "markdown",
      "source": [
        "\n",
        "\n",
        "\n",
        "\n",
        " Final Business Insights\n",
        "* Total Revenue Generated\n",
        "* Most Popular Products & Best Performing Stores\n",
        "* Sales Trends Over Time (📈 Visualized)\n",
        "* Top Spending Customers\n",
        "* Category-wise Revenue Breakdown (🥧 Pie Chart)\n",
        "* Finding High-Value Transactions\n",
        "* Customer Demographics & Purchases\n",
        "* Optimized Performance using Caching"
      ],
      "metadata": {
        "id": "kMm9zhPOFOQ8"
      }
    },
    {
      "cell_type": "code",
      "source": [],
      "metadata": {
        "id": "6-VPkbaLFLnw"
      },
      "execution_count": null,
      "outputs": []
    }
  ]
}