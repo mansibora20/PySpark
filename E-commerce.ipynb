{
 "cells": [
  {
   "cell_type": "code",
   "execution_count": 1,
   "id": "3ba69d47",
   "metadata": {},
   "outputs": [
    {
     "name": "stdout",
     "output_type": "stream",
     "text": [
      "Requirement already satisfied: pyspark in c:\\users\\aqwa\\anaconda3\\lib\\site-packages (3.5.0)\n",
      "Requirement already satisfied: py4j==0.10.9.7 in c:\\users\\aqwa\\anaconda3\\lib\\site-packages (from pyspark) (0.10.9.7)\n",
      "Note: you may need to restart the kernel to use updated packages.\n"
     ]
    }
   ],
   "source": [
    "pip install pyspark"
   ]
  },
  {
   "cell_type": "code",
   "execution_count": 2,
   "id": "12557a16",
   "metadata": {},
   "outputs": [],
   "source": [
    "import pyspark"
   ]
  },
  {
   "cell_type": "code",
   "execution_count": 3,
   "id": "3a3ae380",
   "metadata": {},
   "outputs": [],
   "source": [
    "#Importing Linear regression using pyspark\n",
    "from pyspark.ml.regression import LinearRegression"
   ]
  },
  {
   "cell_type": "code",
   "execution_count": 4,
   "id": "bd1cd8fe",
   "metadata": {},
   "outputs": [],
   "source": [
    "from pyspark.sql import SparkSession\n",
    "spark= SparkSession.builder.appName('Customers').getOrCreate()"
   ]
  },
  {
   "cell_type": "code",
   "execution_count": 5,
   "id": "6f02da01",
   "metadata": {},
   "outputs": [],
   "source": [
    "#Reading the csv\n",
    "dataset=spark.read.csv(\"e-commerce.csv\",inferSchema=True,header=True)"
   ]
  },
  {
   "cell_type": "code",
   "execution_count": 6,
   "id": "257c09cf",
   "metadata": {},
   "outputs": [
    {
     "data": {
      "text/plain": [
       "DataFrame[Email: string, Address: string, Avg Session Length: double, Time on App: double, Time on Website: double, Length of Membership: double, Yearly Amount Spent: double]"
      ]
     },
     "execution_count": 6,
     "metadata": {},
     "output_type": "execute_result"
    }
   ],
   "source": [
    "dataset"
   ]
  },
  {
   "cell_type": "code",
   "execution_count": 7,
   "id": "1f0a78f7",
   "metadata": {},
   "outputs": [
    {
     "name": "stdout",
     "output_type": "stream",
     "text": [
      "+--------------------+--------------------+------------------+-----------+---------------+--------------------+-------------------+\n",
      "|               Email|             Address|Avg Session Length|Time on App|Time on Website|Length of Membership|Yearly Amount Spent|\n",
      "+--------------------+--------------------+------------------+-----------+---------------+--------------------+-------------------+\n",
      "|mstephenson@ferna...|835 Frank TunnelW...|       34.49726773|12.65565115|    39.57766802|         4.082620633|         587.951054|\n",
      "|   hduke@hotmail.com|4547 Archer Commo...|       31.92627203|11.10946073|    37.26895887|         2.664034182|        392.2049334|\n",
      "|    pallen@yahoo.com|24645 Valerie Uni...|       33.00091476|11.33027806|    37.11059744|         4.104543202|        487.5475049|\n",
      "|riverarebecca@gma...|1414 David Throug...|       34.30555663|13.71751367|    36.72128268|         3.120178783|         581.852344|\n",
      "|mstephens@davidso...|14023 Rodriguez P...|       33.33067252|12.79518855|     37.5366533|         4.446308318|         599.406092|\n",
      "|alvareznancy@luca...|645 Martha Park A...|       33.87103788|12.02692534|    34.47687763|         5.493507201|        637.1024479|\n",
      "|katherine20@yahoo...|68388 Reyes Light...|        32.0215955|11.36634831|    36.68377615|         4.685017247|        521.5721748|\n",
      "|  awatkins@yahoo.com|Unit 6538 Box 898...|       32.73914294|12.35195897|    37.37335886|         4.434273435|        549.9041461|\n",
      "|vchurch@walter-ma...|860 Lee KeyWest D...|        33.9877729|13.38623528|    37.53449734|         3.273433578|         570.200409|\n",
      "|    bonnie69@lin.biz|PSC 2734, Box 525...|       31.93654862|11.81412829|    37.14516822|         3.202806072|        427.1993849|\n",
      "|andrew06@peterson...|26104 Alexander G...|       33.99257277|13.33897545|    37.22580613|         2.482607771|        492.6060127|\n",
      "|ryanwerner@freema...|Unit 2413 Box 034...|       33.87936082|  11.584783|    37.08792607|         3.713209203|        522.3374046|\n",
      "|   knelson@gmail.com|6705 Miller Orcha...|       29.53242897| 10.9612984|    37.42021558|         4.046423164|        408.6403511|\n",
      "|wrightpeter@yahoo...|05302 Dunlap Ferr...|       33.19033404|12.95922609|     36.1446667|         3.918541839|        573.4158673|\n",
      "|taylormason@gmail...|7773 Powell Sprin...|       32.38797585|13.14872569|    36.61995708|         2.494543647|        470.4527333|\n",
      "| jstark@anderson.com|49558 Ramirez Roa...|       30.73772037|12.63660605|    36.21376309|         3.357846842|        461.7807422|\n",
      "| wjennings@gmail.com|6362 Wilson Mount...|        32.1253869|11.73386169|    34.89409275|         3.136132716|        457.8476959|\n",
      "|rebecca45@hale-ba...|8982 Burton RowWi...|       32.33889932|12.01319469|    38.38513659|         2.420806161|        407.7045475|\n",
      "|alejandro75@hotma...|64475 Andre Club ...|       32.18781205|14.71538754|    38.24411459|         1.516575581|        452.3156755|\n",
      "|samuel46@love-wes...|544 Alexander Hei...|       32.61785606|13.98959256|     37.1905038|          4.06454855|        605.0610388|\n",
      "+--------------------+--------------------+------------------+-----------+---------------+--------------------+-------------------+\n",
      "only showing top 20 rows\n",
      "\n"
     ]
    }
   ],
   "source": [
    "dataset.show()"
   ]
  },
  {
   "cell_type": "code",
   "execution_count": 8,
   "id": "2e744bbb",
   "metadata": {},
   "outputs": [
    {
     "name": "stdout",
     "output_type": "stream",
     "text": [
      "root\n",
      " |-- Email: string (nullable = true)\n",
      " |-- Address: string (nullable = true)\n",
      " |-- Avg Session Length: double (nullable = true)\n",
      " |-- Time on App: double (nullable = true)\n",
      " |-- Time on Website: double (nullable = true)\n",
      " |-- Length of Membership: double (nullable = true)\n",
      " |-- Yearly Amount Spent: double (nullable = true)\n",
      "\n"
     ]
    }
   ],
   "source": [
    "dataset.printSchema()"
   ]
  },
  {
   "cell_type": "code",
   "execution_count": 9,
   "id": "0b4f793f",
   "metadata": {},
   "outputs": [],
   "source": [
    "from pyspark.ml.linalg import Vectors\n",
    "from pyspark.ml.feature import VectorAssembler"
   ]
  },
  {
   "cell_type": "code",
   "execution_count": 10,
   "id": "068f7673",
   "metadata": {},
   "outputs": [],
   "source": [
    "featureassembler=VectorAssembler(inputCols=[\"Avg Session Length\",\"Time on App\",\"Time on Website\",\"Length of Membership\"],outputCol=\"Independent Features\")"
   ]
  },
  {
   "cell_type": "code",
   "execution_count": 11,
   "id": "b350bf00",
   "metadata": {},
   "outputs": [],
   "source": [
    "output=featureassembler.transform(dataset)"
   ]
  },
  {
   "cell_type": "code",
   "execution_count": 12,
   "id": "5198977e",
   "metadata": {},
   "outputs": [
    {
     "name": "stdout",
     "output_type": "stream",
     "text": [
      "+--------------------+--------------------+------------------+-----------+---------------+--------------------+-------------------+--------------------+\n",
      "|               Email|             Address|Avg Session Length|Time on App|Time on Website|Length of Membership|Yearly Amount Spent|Independent Features|\n",
      "+--------------------+--------------------+------------------+-----------+---------------+--------------------+-------------------+--------------------+\n",
      "|mstephenson@ferna...|835 Frank TunnelW...|       34.49726773|12.65565115|    39.57766802|         4.082620633|         587.951054|[34.49726773,12.6...|\n",
      "|   hduke@hotmail.com|4547 Archer Commo...|       31.92627203|11.10946073|    37.26895887|         2.664034182|        392.2049334|[31.92627203,11.1...|\n",
      "|    pallen@yahoo.com|24645 Valerie Uni...|       33.00091476|11.33027806|    37.11059744|         4.104543202|        487.5475049|[33.00091476,11.3...|\n",
      "|riverarebecca@gma...|1414 David Throug...|       34.30555663|13.71751367|    36.72128268|         3.120178783|         581.852344|[34.30555663,13.7...|\n",
      "|mstephens@davidso...|14023 Rodriguez P...|       33.33067252|12.79518855|     37.5366533|         4.446308318|         599.406092|[33.33067252,12.7...|\n",
      "|alvareznancy@luca...|645 Martha Park A...|       33.87103788|12.02692534|    34.47687763|         5.493507201|        637.1024479|[33.87103788,12.0...|\n",
      "|katherine20@yahoo...|68388 Reyes Light...|        32.0215955|11.36634831|    36.68377615|         4.685017247|        521.5721748|[32.0215955,11.36...|\n",
      "|  awatkins@yahoo.com|Unit 6538 Box 898...|       32.73914294|12.35195897|    37.37335886|         4.434273435|        549.9041461|[32.73914294,12.3...|\n",
      "|vchurch@walter-ma...|860 Lee KeyWest D...|        33.9877729|13.38623528|    37.53449734|         3.273433578|         570.200409|[33.9877729,13.38...|\n",
      "|    bonnie69@lin.biz|PSC 2734, Box 525...|       31.93654862|11.81412829|    37.14516822|         3.202806072|        427.1993849|[31.93654862,11.8...|\n",
      "|andrew06@peterson...|26104 Alexander G...|       33.99257277|13.33897545|    37.22580613|         2.482607771|        492.6060127|[33.99257277,13.3...|\n",
      "|ryanwerner@freema...|Unit 2413 Box 034...|       33.87936082|  11.584783|    37.08792607|         3.713209203|        522.3374046|[33.87936082,11.5...|\n",
      "|   knelson@gmail.com|6705 Miller Orcha...|       29.53242897| 10.9612984|    37.42021558|         4.046423164|        408.6403511|[29.53242897,10.9...|\n",
      "|wrightpeter@yahoo...|05302 Dunlap Ferr...|       33.19033404|12.95922609|     36.1446667|         3.918541839|        573.4158673|[33.19033404,12.9...|\n",
      "|taylormason@gmail...|7773 Powell Sprin...|       32.38797585|13.14872569|    36.61995708|         2.494543647|        470.4527333|[32.38797585,13.1...|\n",
      "| jstark@anderson.com|49558 Ramirez Roa...|       30.73772037|12.63660605|    36.21376309|         3.357846842|        461.7807422|[30.73772037,12.6...|\n",
      "| wjennings@gmail.com|6362 Wilson Mount...|        32.1253869|11.73386169|    34.89409275|         3.136132716|        457.8476959|[32.1253869,11.73...|\n",
      "|rebecca45@hale-ba...|8982 Burton RowWi...|       32.33889932|12.01319469|    38.38513659|         2.420806161|        407.7045475|[32.33889932,12.0...|\n",
      "|alejandro75@hotma...|64475 Andre Club ...|       32.18781205|14.71538754|    38.24411459|         1.516575581|        452.3156755|[32.18781205,14.7...|\n",
      "|samuel46@love-wes...|544 Alexander Hei...|       32.61785606|13.98959256|     37.1905038|          4.06454855|        605.0610388|[32.61785606,13.9...|\n",
      "+--------------------+--------------------+------------------+-----------+---------------+--------------------+-------------------+--------------------+\n",
      "only showing top 20 rows\n",
      "\n"
     ]
    }
   ],
   "source": [
    "output.show()"
   ]
  },
  {
   "cell_type": "code",
   "execution_count": 13,
   "id": "0fa8675a",
   "metadata": {},
   "outputs": [
    {
     "name": "stdout",
     "output_type": "stream",
     "text": [
      "+--------------------+\n",
      "|Independent Features|\n",
      "+--------------------+\n",
      "|[34.49726773,12.6...|\n",
      "|[31.92627203,11.1...|\n",
      "|[33.00091476,11.3...|\n",
      "|[34.30555663,13.7...|\n",
      "|[33.33067252,12.7...|\n",
      "|[33.87103788,12.0...|\n",
      "|[32.0215955,11.36...|\n",
      "|[32.73914294,12.3...|\n",
      "|[33.9877729,13.38...|\n",
      "|[31.93654862,11.8...|\n",
      "|[33.99257277,13.3...|\n",
      "|[33.87936082,11.5...|\n",
      "|[29.53242897,10.9...|\n",
      "|[33.19033404,12.9...|\n",
      "|[32.38797585,13.1...|\n",
      "|[30.73772037,12.6...|\n",
      "|[32.1253869,11.73...|\n",
      "|[32.33889932,12.0...|\n",
      "|[32.18781205,14.7...|\n",
      "|[32.61785606,13.9...|\n",
      "+--------------------+\n",
      "only showing top 20 rows\n",
      "\n"
     ]
    }
   ],
   "source": [
    "output.select(\"Independent Features\").show()"
   ]
  },
  {
   "cell_type": "code",
   "execution_count": 14,
   "id": "f291f1f4",
   "metadata": {},
   "outputs": [
    {
     "data": {
      "text/plain": [
       "['Email',\n",
       " 'Address',\n",
       " 'Avg Session Length',\n",
       " 'Time on App',\n",
       " 'Time on Website',\n",
       " 'Length of Membership',\n",
       " 'Yearly Amount Spent',\n",
       " 'Independent Features']"
      ]
     },
     "execution_count": 14,
     "metadata": {},
     "output_type": "execute_result"
    }
   ],
   "source": [
    "output.columns"
   ]
  },
  {
   "cell_type": "code",
   "execution_count": 15,
   "id": "a118fafd",
   "metadata": {},
   "outputs": [],
   "source": [
    "finalized_data=output.select(\"Email\",\"Independent Features\",\"Yearly Amount Spent\")"
   ]
  },
  {
   "cell_type": "code",
   "execution_count": 16,
   "id": "7f47b6a3",
   "metadata": {},
   "outputs": [
    {
     "name": "stdout",
     "output_type": "stream",
     "text": [
      "+--------------------+--------------------+-------------------+\n",
      "|               Email|Independent Features|Yearly Amount Spent|\n",
      "+--------------------+--------------------+-------------------+\n",
      "|mstephenson@ferna...|[34.49726773,12.6...|         587.951054|\n",
      "|   hduke@hotmail.com|[31.92627203,11.1...|        392.2049334|\n",
      "|    pallen@yahoo.com|[33.00091476,11.3...|        487.5475049|\n",
      "|riverarebecca@gma...|[34.30555663,13.7...|         581.852344|\n",
      "|mstephens@davidso...|[33.33067252,12.7...|         599.406092|\n",
      "|alvareznancy@luca...|[33.87103788,12.0...|        637.1024479|\n",
      "|katherine20@yahoo...|[32.0215955,11.36...|        521.5721748|\n",
      "|  awatkins@yahoo.com|[32.73914294,12.3...|        549.9041461|\n",
      "|vchurch@walter-ma...|[33.9877729,13.38...|         570.200409|\n",
      "|    bonnie69@lin.biz|[31.93654862,11.8...|        427.1993849|\n",
      "|andrew06@peterson...|[33.99257277,13.3...|        492.6060127|\n",
      "|ryanwerner@freema...|[33.87936082,11.5...|        522.3374046|\n",
      "|   knelson@gmail.com|[29.53242897,10.9...|        408.6403511|\n",
      "|wrightpeter@yahoo...|[33.19033404,12.9...|        573.4158673|\n",
      "|taylormason@gmail...|[32.38797585,13.1...|        470.4527333|\n",
      "| jstark@anderson.com|[30.73772037,12.6...|        461.7807422|\n",
      "| wjennings@gmail.com|[32.1253869,11.73...|        457.8476959|\n",
      "|rebecca45@hale-ba...|[32.33889932,12.0...|        407.7045475|\n",
      "|alejandro75@hotma...|[32.18781205,14.7...|        452.3156755|\n",
      "|samuel46@love-wes...|[32.61785606,13.9...|        605.0610388|\n",
      "+--------------------+--------------------+-------------------+\n",
      "only showing top 20 rows\n",
      "\n"
     ]
    }
   ],
   "source": [
    "finalized_data.show()"
   ]
  },
  {
   "cell_type": "code",
   "execution_count": 17,
   "id": "9b5640d5",
   "metadata": {},
   "outputs": [],
   "source": [
    "train_data,test_data=finalized_data.randomSplit([0.75,0.25])"
   ]
  },
  {
   "cell_type": "code",
   "execution_count": 18,
   "id": "d6ae6d2b",
   "metadata": {},
   "outputs": [],
   "source": [
    "regressor=LinearRegression(featuresCol='Independent Features', labelCol='Yearly Amount Spent')\n",
    "regressor=regressor.fit(train_data)"
   ]
  },
  {
   "cell_type": "code",
   "execution_count": 19,
   "id": "59831b7c",
   "metadata": {},
   "outputs": [
    {
     "data": {
      "text/plain": [
       "DenseVector([26.0568, 38.6429, 0.5347, 61.2608])"
      ]
     },
     "execution_count": 19,
     "metadata": {},
     "output_type": "execute_result"
    }
   ],
   "source": [
    "regressor.coefficients"
   ]
  },
  {
   "cell_type": "code",
   "execution_count": 20,
   "id": "7c2d1437",
   "metadata": {},
   "outputs": [
    {
     "data": {
      "text/plain": [
       "-1063.8242821976241"
      ]
     },
     "execution_count": 20,
     "metadata": {},
     "output_type": "execute_result"
    }
   ],
   "source": [
    "regressor.intercept"
   ]
  },
  {
   "cell_type": "code",
   "execution_count": 21,
   "id": "fa44454e",
   "metadata": {},
   "outputs": [],
   "source": [
    "pred_results=regressor.evaluate(test_data)"
   ]
  },
  {
   "cell_type": "code",
   "execution_count": 22,
   "id": "1da1f5a0",
   "metadata": {},
   "outputs": [
    {
     "name": "stdout",
     "output_type": "stream",
     "text": [
      "+--------------------+--------------------+-------------------+------------------+\n",
      "|               Email|Independent Features|Yearly Amount Spent|        prediction|\n",
      "+--------------------+--------------------+-------------------+------------------+\n",
      "|   aaron89@gmail.com|[31.44744649,10.1...|        418.6027421| 425.9329544606769|\n",
      "|alejandro75@hotma...|[32.18781205,14.7...|        452.3156755|456.88574416772644|\n",
      "|alvaradoadam@jone...|[31.95490386,10.9...|        439.9978799|431.65210228731075|\n",
      "|  amanda03@yahoo.com|[34.18818406,13.1...|         583.977802| 585.5464481093604|\n",
      "|amandastanley@yah...|[32.09610899,10.8...|        375.3984554|375.38824047493176|\n",
      "| angela25@walker.com|[34.50141785,12.4...|         584.105885| 581.8064784744436|\n",
      "|annstone@hotmail.com|[34.60624245,11.7...|        402.1671222|424.34516317342286|\n",
      "| arice@reynolds.info|[33.56647439,12.2...|        466.4211988|   458.67701727545|\n",
      "|aschmidt@johnson.biz|[32.21292383,11.7...|        513.1531119| 513.3628582958729|\n",
      "| bakerdrew@gmail.com|[33.35687434,13.4...|        549.0082269| 549.0772692097685|\n",
      "|blakekent@smith-p...|[33.58737339,9.95...|        410.6029439|412.96725337603516|\n",
      "|    bonnie69@lin.biz|[31.93654862,11.8...|        427.1993849|  440.937883449378|\n",
      "|  brenda25@gmail.com|[33.4322314,10.85...|        465.1766233|472.50227019531303|\n",
      "|   brian51@cook.info|[31.5171218,10.74...|        275.9184207| 280.9066708911148|\n",
      "|bwilliams@hotmail...|[34.37032705,11.8...|        491.9115051| 498.0160797340661|\n",
      "|campbellross@yaho...|[34.56868085,11.3...|        528.2238094| 528.9542028806052|\n",
      "| casey21@johnson.com|[33.59852032,11.5...|        512.8253581| 501.0845192932786|\n",
      "|charlesjackson@br...|[32.86530121,12.0...|        411.1869636|425.13286377679196|\n",
      "|chelsea05@hansen.com|[32.45517629,12.7...|        542.7115581| 547.5575881456264|\n",
      "|    chris67@ryan.biz|[32.78977262,11.6...|        483.1597208|470.72416609749007|\n",
      "|clifford76@johnso...|[32.33263707,11.5...|        532.7174857| 537.9915856120006|\n",
      "|  cody68@hotmail.com|[34.48238805,13.2...|        666.1255917| 671.5576829583556|\n",
      "|craigcastro@burge...|[32.8052204,11.83...|        469.3108615| 478.4914361801773|\n",
      "|     cruiz@yahoo.com|[33.98100558,9.31...|        384.3260571|377.07880538024347|\n",
      "|david28@wallace-h...|[33.38411057,12.6...|         528.309225| 540.4870541101884|\n",
      "|david43@richards.com|[33.55520742,11.5...|        444.2859075| 450.3507226009931|\n",
      "| deborah51@yahoo.com|[33.73264839,12.1...|        399.9838716| 403.3742267352293|\n",
      "|denisemorrow@john...|[31.65480968,13.0...|        475.2634237|468.52656838419125|\n",
      "|   dhudson@ramos.net|[30.97167564,11.7...|        494.6386098|  486.981864467514|\n",
      "| duane56@hotmail.com|[33.61603789,11.9...|        521.8835732|  517.644109788494|\n",
      "|ebutler@rogers-go...|[32.9925732,13.00...|        589.0264898|  601.206807577124|\n",
      "|     ecruz@yahoo.com|[31.91207593,11.7...|        387.5347163|389.53166796265646|\n",
      "|edwardbrown@yahoo...|[33.21547157,12.1...|        663.8036933| 648.2517142070387|\n",
      "|  efreeman@moore.com|[32.20079864,12.2...|        478.8853913| 473.2536226482739|\n",
      "|elizabethnunez@va...|[32.59209323,10.3...|        493.1812614| 497.1559097469103|\n",
      "| ellen24@anthony.com|[32.43075793,11.3...|        408.6201878|408.54421176552023|\n",
      "|  erik46@hotmail.com|[34.44787144,10.6...|        473.7289665| 469.6073481318683|\n",
      "|   ethomas@yahoo.com|[33.69489765,11.2...|        505.1196375| 512.0594633223368|\n",
      "|fishermichael@ram...|[34.59402115,10.9...|        462.8976362| 473.3729689930926|\n",
      "|floresbradley@hot...|[34.81498394,12.1...|        604.3348401| 599.8021303433716|\n",
      "+--------------------+--------------------+-------------------+------------------+\n",
      "only showing top 40 rows\n",
      "\n"
     ]
    }
   ],
   "source": [
    "pred_results.predictions.show(40)"
   ]
  },
  {
   "cell_type": "code",
   "execution_count": 23,
   "id": "9d78a1be",
   "metadata": {},
   "outputs": [
    {
     "name": "stdout",
     "output_type": "stream",
     "text": [
      "Root Mean Squared Error (RMSE): 9.937363775412575\n",
      "R-squared (R2): 0.9858223151933903\n"
     ]
    }
   ],
   "source": [
    "# Import the necessary evaluation module from PySpark\n",
    "from pyspark.ml.evaluation import RegressionEvaluator\n",
    "\n",
    "# Create an instance of the RegressionEvaluator\n",
    "evaluator = RegressionEvaluator(\n",
    "    labelCol=\"Yearly Amount Spent\",  # The name of the target column\n",
    "    predictionCol=\"prediction\",  # The name of the prediction column\n",
    "    metricName=\"rmse\"  # Choose the evaluation metric (e.g., RMSE)\n",
    ")\n",
    "\n",
    "# Use the evaluator to calculate the RMSE on the test data\n",
    "rmse = evaluator.evaluate(pred_results.predictions)\n",
    "print(\"Root Mean Squared Error (RMSE):\", rmse)\n",
    "\n",
    "# Calculate and print other metrics (e.g., R-squared)\n",
    "r2 = evaluator.setMetricName(\"r2\").evaluate(pred_results.predictions)\n",
    "print(\"R-squared (R2):\", r2)"
   ]
  },
  {
   "cell_type": "code",
   "execution_count": 25,
   "id": "5daaefb5",
   "metadata": {},
   "outputs": [
    {
     "name": "stdout",
     "output_type": "stream",
     "text": [
      "Feature Importance: [26.056759626690894,38.6428635875233,0.5346866475961004,61.26078730739352]\n"
     ]
    }
   ],
   "source": [
    "feature_importance = regressor.coefficients\n",
    "print(\"Feature Importance:\", feature_importance)"
   ]
  },
  {
   "cell_type": "code",
   "execution_count": null,
   "id": "a67f691f",
   "metadata": {},
   "outputs": [],
   "source": []
  }
 ],
 "metadata": {
  "kernelspec": {
   "display_name": "Python 3 (ipykernel)",
   "language": "python",
   "name": "python3"
  },
  "language_info": {
   "codemirror_mode": {
    "name": "ipython",
    "version": 3
   },
   "file_extension": ".py",
   "mimetype": "text/x-python",
   "name": "python",
   "nbconvert_exporter": "python",
   "pygments_lexer": "ipython3",
   "version": "3.11.4"
  }
 },
 "nbformat": 4,
 "nbformat_minor": 5
}
